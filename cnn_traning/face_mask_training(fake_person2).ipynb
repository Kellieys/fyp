{
  "nbformat": 4,
  "nbformat_minor": 0,
  "metadata": {
    "colab": {
      "name": "face-mask-training(fake-person2).ipynb",
      "provenance": [],
      "collapsed_sections": []
    },
    "kernelspec": {
      "name": "python3",
      "display_name": "Python 3"
    },
    "language_info": {
      "name": "python"
    },
    "accelerator": "GPU"
  },
  "cells": [
    {
      "cell_type": "markdown",
      "metadata": {
        "id": "5dKogF5osTOT"
      },
      "source": [
        "# Import the necessary packages"
      ]
    },
    {
      "cell_type": "code",
      "metadata": {
        "id": "i7awwjBxsL11"
      },
      "source": [
        "import os\n",
        "import numpy as np\n",
        "from imutils import paths\n",
        "import matplotlib.pyplot as plt\n",
        "from sklearn.metrics import accuracy_score\n",
        "from tensorflow.keras.layers import Dense\n",
        "from tensorflow.keras.layers import Input\n",
        "from tensorflow.keras.models import Model\n",
        "from tensorflow.keras.layers import Dropout\n",
        "from tensorflow.keras.layers import Flatten\n",
        "from tensorflow.keras.optimizers import Adam\n",
        "from tensorflow.keras.utils import to_categorical\n",
        "from sklearn.preprocessing import LabelBinarizer\n",
        "from sklearn.metrics import classification_report\n",
        "from sklearn.model_selection import train_test_split\n",
        "from tensorflow.keras.applications import MobileNetV2\n",
        "from tensorflow.keras.layers import AveragePooling2D\n",
        "from tensorflow.keras.preprocessing.image import ImageDataGenerator\n",
        "from tensorflow.keras.applications.mobilenet_v2 import preprocess_input\n",
        "from tensorflow.keras.preprocessing.image import img_to_array\n",
        "from tensorflow.keras.preprocessing.image import load_img"
      ],
      "execution_count": 1,
      "outputs": []
    },
    {
      "cell_type": "markdown",
      "metadata": {
        "id": "2una8wjcsWNO"
      },
      "source": [
        "# Mount Drive"
      ]
    },
    {
      "cell_type": "code",
      "metadata": {
        "colab": {
          "base_uri": "https://localhost:8080/"
        },
        "id": "nQWiuw4dsWDN",
        "outputId": "cfdb19f7-6907-454a-bd13-398636e6a247"
      },
      "source": [
        "from google.colab import drive\n",
        "drive.mount('/content/drive')\n"
      ],
      "execution_count": 2,
      "outputs": [
        {
          "output_type": "stream",
          "text": [
            "Drive already mounted at /content/drive; to attempt to forcibly remount, call drive.mount(\"/content/drive\", force_remount=True).\n"
          ],
          "name": "stdout"
        }
      ]
    },
    {
      "cell_type": "markdown",
      "metadata": {
        "id": "z80WODsxsc_J"
      },
      "source": [
        "# Data Preprosessing"
      ]
    },
    {
      "cell_type": "code",
      "metadata": {
        "colab": {
          "base_uri": "https://localhost:8080/"
        },
        "id": "AweynY2Esf5q",
        "outputId": "8f0e075e-80fd-4171-9677-f65b390cefc8"
      },
      "source": [
        "# initialization for initial learning rate, number of epochs and batch size\n",
        "INIT_LR = 1e-4\n",
        "EPOCHS = 20\n",
        "BS = 32\n",
        "\n",
        "# initialize directory to dataset, dataset in this folder contains 4800\n",
        "DIRECTORY = \"/content/drive/MyDrive/Fake-person-dataset2/\"\n",
        "CATEGORIES = [\"with_mask\", \"without_mask\"]\n",
        "\n",
        "# initalize the list the data and class of the images\n",
        "# append to corresponding array grab the list of images in our dataset directory, then initialize the list of data and class \n",
        "print(\"[INFO] Loading Images...\")\n",
        "\n",
        "dataset = []\n",
        "labels = []\n",
        "\n",
        "for category in CATEGORIES:\n",
        "    path = os.path.join(DIRECTORY, category)\n",
        "    for img in os.listdir(path):\n",
        "    \timg_path = os.path.join(path, img)\n",
        "    \timage = load_img(img_path, target_size=(224, 224))\n",
        "    \timage = img_to_array(image)\n",
        "    \timage = preprocess_input(image)\n",
        "\n",
        "    \tdataset.append(image)\n",
        "    \tlabels.append(category)\n",
        "\n",
        "# perform one-hot encoding with the labels\n",
        "lb = LabelBinarizer()\n",
        "labels = lb.fit_transform(labels)\n",
        "labels = to_categorical(labels)\n",
        "\n",
        "dataset = np.array(dataset, dtype=\"float32\")\n",
        "labels = np.array(labels)\n",
        "\n",
        "# repeat the pre-processing for real-person-testset\n",
        "# real-person data contains 1200 dataset in this folder and will be used as testset\n",
        "REALDIR = \"/content/drive/MyDrive/Fake-person-realtestset2/\"\n",
        "REALCATE = [\"with_mask\", \"without_mask\"]\n",
        "\n",
        "print(\"[INFO] Loading Real-person Images...\")\n",
        "\n",
        "realdataset = []\n",
        "reallabels = []\n",
        "\n",
        "for realcate in REALCATE:\n",
        "    newpath = os.path.join(REALDIR, realcate)\n",
        "    for realimg in os.listdir(newpath):\n",
        "    \trealimg_path = os.path.join(newpath, realimg)\n",
        "    \timages = load_img(realimg_path, target_size=(224, 224))\n",
        "    \timages = img_to_array(images)\n",
        "    \timages = preprocess_input(images)\n",
        "\n",
        "    \trealdataset.append(images)\n",
        "    \treallabels.append(realcate)\n",
        "     \n",
        "reallabels = lb.fit_transform(reallabels)\n",
        "reallabels = to_categorical(reallabels)\n",
        "\n",
        "realdataset = np.array(realdataset, dtype=\"float32\")\n",
        "reallabels = np.array(reallabels)"
      ],
      "execution_count": 3,
      "outputs": [
        {
          "output_type": "stream",
          "text": [
            "[INFO] Loading Images...\n",
            "[INFO] Loading Real-person Images...\n"
          ],
          "name": "stdout"
        },
        {
          "output_type": "stream",
          "text": [
            "/usr/local/lib/python3.7/dist-packages/PIL/Image.py:960: UserWarning: Palette images with Transparency expressed in bytes should be converted to RGBA images\n",
            "  \"Palette images with Transparency expressed in bytes should be \"\n"
          ],
          "name": "stderr"
        }
      ]
    },
    {
      "cell_type": "markdown",
      "metadata": {
        "id": "TsG3usgOsiyP"
      },
      "source": [
        "# Model Training"
      ]
    },
    {
      "cell_type": "code",
      "metadata": {
        "colab": {
          "base_uri": "https://localhost:8080/"
        },
        "id": "pF4pTds4slQ0",
        "outputId": "081e515c-d622-49b1-dbe0-c9c6dad7473e"
      },
      "source": [
        "# split training set and validation dataset\n",
        "(trainX, validationX, trainY, validationY) = train_test_split(dataset, labels, test_size=0.20, stratify=labels, random_state=42)\n",
        "\n",
        "# configure image data augmentation\n",
        "aug = ImageDataGenerator(\n",
        "\trotation_range=20,\n",
        "\tzoom_range=0.15,\n",
        "\twidth_shift_range=0.2,\n",
        "\theight_shift_range=0.2,\n",
        "\tshear_range=0.15,\n",
        "\thorizontal_flip=True,\n",
        "\tfill_mode=\"nearest\")\n",
        "\n",
        "# load the MobileNetV2 network but do not include the head of fully connected layer\n",
        "baseModel = MobileNetV2(weights=\"imagenet\", include_top=False, input_tensor=Input(shape=(224, 224, 3)))\n",
        "\n",
        "# define the top model for each layer\n",
        "headModel = baseModel.output\n",
        "headModel = AveragePooling2D(pool_size=(7, 7))(headModel)\n",
        "headModel = Flatten(name=\"flatten\")(headModel)\n",
        "headModel = Dense(128, activation=\"relu\")(headModel)\n",
        "headModel = Dropout(0.5)(headModel)\n",
        "headModel = Dense(2, activation=\"softmax\")(headModel)\n",
        "\n",
        "# combine head fully connected model on top of the base model \n",
        "model = Model(inputs=baseModel.input, outputs=headModel)\n",
        "\n",
        "# freeze the base model so it will NOT update during the first training process\n",
        "for layer in baseModel.layers:\n",
        "\tlayer.trainable = False\n",
        "\n",
        "# compile model\n",
        "print(\"[INFO] Compiling Model...\")\n",
        "opt = Adam(lr=INIT_LR, decay=INIT_LR / EPOCHS)\n",
        "model.compile(loss=\"binary_crossentropy\", optimizer=opt, metrics=[\"accuracy\"])\n",
        "\n",
        "# train the head of the network\n",
        "print(\"[INFO] Training Head...\")\n",
        "H = model.fit(\n",
        "\taug.flow(trainX, trainY, batch_size=BS),\n",
        "\tsteps_per_epoch=len(trainX) // BS,\n",
        "\tvalidation_data=(validationX, validationY),\n",
        "\tvalidation_steps=len(validationX) // BS,\n",
        "\tepochs=EPOCHS)\n"
      ],
      "execution_count": 4,
      "outputs": [
        {
          "output_type": "stream",
          "text": [
            "WARNING:tensorflow:`input_shape` is undefined or non-square, or `rows` is not in [96, 128, 160, 192, 224]. Weights for input shape (224, 224) will be loaded as the default.\n",
            "[INFO] Compiling Model...\n",
            "[INFO] Training Head...\n",
            "Epoch 1/20\n",
            "120/120 [==============================] - 74s 332ms/step - loss: 0.2939 - accuracy: 0.9096 - val_loss: 0.0145 - val_accuracy: 1.0000\n",
            "Epoch 2/20\n",
            "120/120 [==============================] - 39s 322ms/step - loss: 0.0218 - accuracy: 0.9989 - val_loss: 0.0047 - val_accuracy: 1.0000\n",
            "Epoch 3/20\n",
            "120/120 [==============================] - 39s 322ms/step - loss: 0.0098 - accuracy: 0.9995 - val_loss: 0.0021 - val_accuracy: 1.0000\n",
            "Epoch 4/20\n",
            "120/120 [==============================] - 39s 323ms/step - loss: 0.0050 - accuracy: 0.9995 - val_loss: 0.0011 - val_accuracy: 1.0000\n",
            "Epoch 5/20\n",
            "120/120 [==============================] - 39s 323ms/step - loss: 0.0047 - accuracy: 0.9989 - val_loss: 7.8758e-04 - val_accuracy: 1.0000\n",
            "Epoch 6/20\n",
            "120/120 [==============================] - 39s 323ms/step - loss: 0.0027 - accuracy: 0.9998 - val_loss: 5.3449e-04 - val_accuracy: 1.0000\n",
            "Epoch 7/20\n",
            "120/120 [==============================] - 39s 324ms/step - loss: 0.0019 - accuracy: 1.0000 - val_loss: 3.9715e-04 - val_accuracy: 1.0000\n",
            "Epoch 8/20\n",
            "120/120 [==============================] - 39s 324ms/step - loss: 0.0015 - accuracy: 1.0000 - val_loss: 3.2787e-04 - val_accuracy: 1.0000\n",
            "Epoch 9/20\n",
            "120/120 [==============================] - 39s 323ms/step - loss: 0.0022 - accuracy: 0.9992 - val_loss: 2.6012e-04 - val_accuracy: 1.0000\n",
            "Epoch 10/20\n",
            "120/120 [==============================] - 39s 324ms/step - loss: 8.3754e-04 - accuracy: 0.9999 - val_loss: 2.1293e-04 - val_accuracy: 1.0000\n",
            "Epoch 11/20\n",
            "120/120 [==============================] - 39s 324ms/step - loss: 0.0013 - accuracy: 1.0000 - val_loss: 1.6589e-04 - val_accuracy: 1.0000\n",
            "Epoch 12/20\n",
            "120/120 [==============================] - 39s 324ms/step - loss: 6.2469e-04 - accuracy: 1.0000 - val_loss: 1.3289e-04 - val_accuracy: 1.0000\n",
            "Epoch 13/20\n",
            "120/120 [==============================] - 39s 323ms/step - loss: 8.9643e-04 - accuracy: 1.0000 - val_loss: 1.3048e-04 - val_accuracy: 1.0000\n",
            "Epoch 14/20\n",
            "120/120 [==============================] - 39s 325ms/step - loss: 0.0010 - accuracy: 1.0000 - val_loss: 1.0517e-04 - val_accuracy: 1.0000\n",
            "Epoch 15/20\n",
            "120/120 [==============================] - 39s 324ms/step - loss: 3.7460e-04 - accuracy: 1.0000 - val_loss: 8.5030e-05 - val_accuracy: 1.0000\n",
            "Epoch 16/20\n",
            "120/120 [==============================] - 39s 323ms/step - loss: 6.7208e-04 - accuracy: 1.0000 - val_loss: 7.1571e-05 - val_accuracy: 1.0000\n",
            "Epoch 17/20\n",
            "120/120 [==============================] - 39s 323ms/step - loss: 4.0003e-04 - accuracy: 1.0000 - val_loss: 6.8685e-05 - val_accuracy: 1.0000\n",
            "Epoch 18/20\n",
            "120/120 [==============================] - 39s 324ms/step - loss: 2.9149e-04 - accuracy: 1.0000 - val_loss: 5.5177e-05 - val_accuracy: 1.0000\n",
            "Epoch 19/20\n",
            "120/120 [==============================] - 39s 323ms/step - loss: 2.8076e-04 - accuracy: 1.0000 - val_loss: 5.5994e-05 - val_accuracy: 1.0000\n",
            "Epoch 20/20\n",
            "120/120 [==============================] - 39s 324ms/step - loss: 2.3535e-04 - accuracy: 1.0000 - val_loss: 4.5217e-05 - val_accuracy: 1.0000\n"
          ],
          "name": "stdout"
        }
      ]
    },
    {
      "cell_type": "markdown",
      "metadata": {
        "id": "Lx5B12GxbY--"
      },
      "source": [
        "# Model Prediction and Report"
      ]
    },
    {
      "cell_type": "code",
      "metadata": {
        "colab": {
          "base_uri": "https://localhost:8080/",
          "height": 524
        },
        "id": "GybyS1jabhqX",
        "outputId": "8c9a3045-e664-414f-c8b8-8d2a73e0631e"
      },
      "source": [
        "# make predictions on the (REAL-PERSON) testing set\n",
        "print(\"[INFO] Evaluating Network...\")\n",
        "predIdxs = model.predict(realdataset, batch_size=BS)\n",
        "\n",
        "# find the index of label for each of our image in testing set corresponding to its largest predicted probability\n",
        "predIdxs = np.argmax(predIdxs, axis=1)\n",
        "\n",
        "# output classification report\n",
        "print(classification_report(reallabels.argmax(axis=1), predIdxs, target_names=lb.classes_))\n",
        "\n",
        "# inspect the accuracy of the model on testing set\n",
        "print(\"[INFO] Accuracy...\")\n",
        "print(accuracy_score(reallabels.argmax(axis=1), predIdxs))\n",
        "\n",
        "# finalize the model and save\n",
        "print(\"[INFO] Saving Model...\")\n",
        "model.save(\"/content/drive/MyDrive/Fake-person-dataset2-model/Fake-person-dataset2-model.model\", save_format=\"h5\")\n",
        "\n",
        "# plot grpah to inspect the training loss and accuracy\n",
        "N = EPOCHS\n",
        "plt.style.use(\"ggplot\")\n",
        "plt.figure()\n",
        "plt.plot(np.arange(0, N), H.history[\"loss\"], label=\"train_loss\")\n",
        "plt.plot(np.arange(0, N), H.history[\"val_loss\"], label=\"val_loss\")\n",
        "plt.plot(np.arange(0, N), H.history[\"accuracy\"], label=\"train_acc\")\n",
        "plt.plot(np.arange(0, N), H.history[\"val_accuracy\"], label=\"val_acc\")\n",
        "plt.title(\"Training Loss and Accuracy\")\n",
        "plt.xlabel(\"Epoch #\")\n",
        "plt.ylabel(\"Loss/Accuracy\")\n",
        "plt.legend(loc=\"lower left\")\n",
        "plt.savefig(\"/content/drive/MyDrive/Fake-person-dataset2-model/Fake-person-dataset2-plot.png\")\n"
      ],
      "execution_count": 6,
      "outputs": [
        {
          "output_type": "stream",
          "text": [
            "[INFO] Evaluating Network...\n",
            "              precision    recall  f1-score   support\n",
            "\n",
            "   with_mask       0.96      0.94      0.95       600\n",
            "without_mask       0.94      0.96      0.95       600\n",
            "\n",
            "    accuracy                           0.95      1200\n",
            "   macro avg       0.95      0.95      0.95      1200\n",
            "weighted avg       0.95      0.95      0.95      1200\n",
            "\n",
            "[INFO] Accuracy...\n",
            "0.9483333333333334\n",
            "[INFO] Saving Model...\n"
          ],
          "name": "stdout"
        },
        {
          "output_type": "display_data",
          "data": {
            "image/png": "[encoded data removed]",
            "text/plain": [
              "<Figure size 432x288 with 1 Axes>"
            ]
          },
          "metadata": {
            "tags": []
          }
        }
      ]
    }
  ]
}