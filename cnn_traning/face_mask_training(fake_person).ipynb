{
  "nbformat": 4,
  "nbformat_minor": 0,
  "metadata": {
    "accelerator": "GPU",
    "colab": {
      "name": "face-mask-training(fake-person).ipynb",
      "provenance": [],
      "collapsed_sections": []
    },
    "kernelspec": {
      "display_name": "Python 3",
      "name": "python3"
    },
    "language_info": {
      "name": "python"
    }
  },
  "cells": [
    {
      "cell_type": "markdown",
      "metadata": {
        "id": "UOO0EXxclzBB"
      },
      "source": [
        "# Import the necessary packages"
      ]
    },
    {
      "cell_type": "code",
      "metadata": {
        "id": "0LqqIvE5l3f0"
      },
      "source": [
        "import os\n",
        "import numpy as np\n",
        "from imutils import paths\n",
        "import matplotlib.pyplot as plt\n",
        "from sklearn.metrics import accuracy_score\n",
        "from tensorflow.keras.layers import Dense\n",
        "from tensorflow.keras.layers import Input\n",
        "from tensorflow.keras.models import Model\n",
        "from tensorflow.keras.layers import Dropout\n",
        "from tensorflow.keras.layers import Flatten\n",
        "from tensorflow.keras.optimizers import Adam\n",
        "from tensorflow.keras.utils import to_categorical\n",
        "from sklearn.preprocessing import LabelBinarizer\n",
        "from sklearn.metrics import classification_report\n",
        "from sklearn.model_selection import train_test_split\n",
        "from tensorflow.keras.applications import MobileNetV2\n",
        "from tensorflow.keras.layers import AveragePooling2D\n",
        "from tensorflow.keras.preprocessing.image import ImageDataGenerator\n",
        "from tensorflow.keras.applications.mobilenet_v2 import preprocess_input\n",
        "from tensorflow.keras.preprocessing.image import img_to_array\n",
        "from tensorflow.keras.preprocessing.image import load_img"
      ],
      "execution_count": 2,
      "outputs": []
    },
    {
      "cell_type": "markdown",
      "metadata": {
        "id": "8xcW-BLPmnx1"
      },
      "source": [
        "# Mount Drive"
      ]
    },
    {
      "cell_type": "code",
      "metadata": {
        "colab": {
          "base_uri": "https://localhost:8080/"
        },
        "id": "8vd7iNzWoKzG",
        "outputId": "0225f117-d926-435d-9307-8a7b8ca658df"
      },
      "source": [
        "from google.colab import drive\n",
        "drive.mount('/content/drive')\n"
      ],
      "execution_count": 3,
      "outputs": [
        {
          "output_type": "stream",
          "text": [
            "Mounted at /content/drive\n"
          ],
          "name": "stdout"
        }
      ]
    },
    {
      "cell_type": "markdown",
      "metadata": {
        "id": "-PMr7W0PsadR"
      },
      "source": [
        "# Data Preprosessing"
      ]
    },
    {
      "cell_type": "code",
      "metadata": {
        "colab": {
          "base_uri": "https://localhost:8080/"
        },
        "id": "mYncK_dEu9rt",
        "outputId": "3ff4de34-6546-4a35-fd72-39d259510709"
      },
      "source": [
        "# initialization for initial learning rate, number of epochs and batch size\n",
        "INIT_LR = 1e-4\n",
        "EPOCHS = 20\n",
        "BS = 32\n",
        "\n",
        "# initialize directory to dataset\n",
        "DIRECTORY = \"/content/drive/MyDrive/Fake-person-dataset/\"\n",
        "CATEGORIES = [\"with_mask\", \"without_mask\"]\n",
        "\n",
        "# initalize the list the data and class of the images\n",
        "# append to corresponding array grab the list of images in our dataset directory, then initialize the list of data and class \n",
        "print(\"[INFO] Loading Images...\")\n",
        "\n",
        "dataset = []\n",
        "labels = []\n",
        "\n",
        "for category in CATEGORIES:\n",
        "    path = os.path.join(DIRECTORY, category)\n",
        "    for img in os.listdir(path):\n",
        "    \timg_path = os.path.join(path, img)\n",
        "    \timage = load_img(img_path, target_size=(224, 224))\n",
        "    \timage = img_to_array(image)\n",
        "    \timage = preprocess_input(image)\n",
        "\n",
        "    \tdataset.append(image)\n",
        "    \tlabels.append(category)\n",
        "\n",
        "# perform one-hot encoding with the labels\n",
        "lb = LabelBinarizer()\n",
        "labels = lb.fit_transform(labels)\n",
        "labels = to_categorical(labels)\n",
        "\n",
        "dataset = np.array(dataset, dtype=\"float32\")\n",
        "labels = np.array(labels)"
      ],
      "execution_count": 4,
      "outputs": [
        {
          "output_type": "stream",
          "text": [
            "[INFO] Loading Images...\n"
          ],
          "name": "stdout"
        }
      ]
    },
    {
      "cell_type": "markdown",
      "metadata": {
        "id": "mTOoEdHOsgnC"
      },
      "source": [
        "# Model Training and Prediction"
      ]
    },
    {
      "cell_type": "code",
      "metadata": {
        "colab": {
          "base_uri": "https://localhost:8080/",
          "height": 1000
        },
        "id": "pdFdVfNAkeOx",
        "outputId": "12247e2c-3d4b-48dc-cae0-78bb595a24f5"
      },
      "source": [
        "# split training set and validation dataset\n",
        "(trainX, validationX, trainY, validationY) = train_test_split(dataset, labels, test_size=0.20, stratify=labels, random_state=42)\n",
        "\n",
        "# split training set and testing dataset\n",
        "(trainX, testX, trainY, testY) = train_test_split(trainX, trainY, test_size=0.25, random_state=42)\n",
        "\n",
        "# configure image data augmentation\n",
        "aug = ImageDataGenerator(\n",
        "\trotation_range=20,\n",
        "\tzoom_range=0.15,\n",
        "\twidth_shift_range=0.2,\n",
        "\theight_shift_range=0.2,\n",
        "\tshear_range=0.15,\n",
        "\thorizontal_flip=True,\n",
        "\tfill_mode=\"nearest\")\n",
        "\n",
        "# load the MobileNetV2 network but do not include the head of fully connected layer\n",
        "baseModel = MobileNetV2(weights=\"imagenet\", include_top=False, input_tensor=Input(shape=(224, 224, 3)))\n",
        "\n",
        "# define the top model for each layer\n",
        "headModel = baseModel.output\n",
        "headModel = AveragePooling2D(pool_size=(7, 7))(headModel)\n",
        "headModel = Flatten(name=\"flatten\")(headModel)\n",
        "headModel = Dense(128, activation=\"relu\")(headModel)\n",
        "headModel = Dropout(0.5)(headModel)\n",
        "headModel = Dense(2, activation=\"softmax\")(headModel)\n",
        "\n",
        "# combine head fully connected model on top of the base model \n",
        "model = Model(inputs=baseModel.input, outputs=headModel)\n",
        "\n",
        "# freeze the base model so it will NOT update during the first training process\n",
        "for layer in baseModel.layers:\n",
        "\tlayer.trainable = False\n",
        "\n",
        "# compile model\n",
        "print(\"[INFO] Compiling Model...\")\n",
        "opt = Adam(lr=INIT_LR, decay=INIT_LR / EPOCHS)\n",
        "model.compile(loss=\"binary_crossentropy\", optimizer=opt, metrics=[\"accuracy\"])\n",
        "\n",
        "# train the head of the network\n",
        "print(\"[INFO] Training Head...\")\n",
        "H = model.fit(\n",
        "\taug.flow(trainX, trainY, batch_size=BS),\n",
        "\tsteps_per_epoch=len(trainX) // BS,\n",
        "\tvalidation_data=(validationX, validationY),\n",
        "\tvalidation_steps=len(validationX) // BS,\n",
        "\tepochs=EPOCHS)\n",
        "\n",
        "# make predictions on the testing set\n",
        "print(\"[INFO] Evaluating Network...\")\n",
        "predIdxs = model.predict(testX, batch_size=BS)\n",
        "\n",
        "# find the index of label for each of our image in testing set corresponding to its largest predicted probability\n",
        "predIdxs = np.argmax(predIdxs, axis=1)\n",
        "\n",
        "# output classification report\n",
        "print(classification_report(testY.argmax(axis=1), predIdxs, target_names=lb.classes_))\n",
        "\n",
        "# inspect the accuracy of the model on testing set\n",
        "print(\"[INFO] Accuracy...\")\n",
        "print(accuracy_score(testY.argmax(axis=1), predIdxs))\n",
        "\n",
        "# finalize the model and save\n",
        "print(\"[INFO] Saving Model...\")\n",
        "model.save(\"/content/drive/MyDrive/Fake-person-dataset-model/Fake-person-dataset-model.model\", save_format=\"h5\")\n",
        "\n",
        "# plot grpah to inspect the training loss and accuracy\n",
        "N = EPOCHS\n",
        "plt.style.use(\"ggplot\")\n",
        "plt.figure()\n",
        "plt.plot(np.arange(0, N), H.history[\"loss\"], label=\"train_loss\")\n",
        "plt.plot(np.arange(0, N), H.history[\"val_loss\"], label=\"val_loss\")\n",
        "plt.plot(np.arange(0, N), H.history[\"accuracy\"], label=\"train_acc\")\n",
        "plt.plot(np.arange(0, N), H.history[\"val_accuracy\"], label=\"val_acc\")\n",
        "plt.title(\"Training Loss and Accuracy\")\n",
        "plt.xlabel(\"Epoch #\")\n",
        "plt.ylabel(\"Loss/Accuracy\")\n",
        "plt.legend(loc=\"lower left\")\n",
        "plt.savefig(\"/content/drive/MyDrive/Fake-person-dataset-model/Fake-person-dataset-plot.png\")\n"
      ],
      "execution_count": 5,
      "outputs": [
        {
          "output_type": "stream",
          "text": [
            "WARNING:tensorflow:`input_shape` is undefined or non-square, or `rows` is not in [96, 128, 160, 192, 224]. Weights for input shape (224, 224) will be loaded as the default.\n",
            "Downloading data from https://storage.googleapis.com/tensorflow/keras-applications/mobilenet_v2/mobilenet_v2_weights_tf_dim_ordering_tf_kernels_1.0_224_no_top.h5\n",
            "9412608/9406464 [==============================] - 0s 0us/step\n",
            "[INFO] Compiling Model...\n",
            "[INFO] Training Head...\n",
            "Epoch 1/20\n",
            "112/112 [==============================] - 81s 437ms/step - loss: 0.3425 - accuracy: 0.8905 - val_loss: 0.0172 - val_accuracy: 1.0000\n",
            "Epoch 2/20\n",
            "112/112 [==============================] - 47s 419ms/step - loss: 0.0262 - accuracy: 0.9998 - val_loss: 0.0047 - val_accuracy: 1.0000\n",
            "Epoch 3/20\n",
            "112/112 [==============================] - 47s 419ms/step - loss: 0.0118 - accuracy: 0.9992 - val_loss: 0.0022 - val_accuracy: 1.0000\n",
            "Epoch 4/20\n",
            "112/112 [==============================] - 47s 418ms/step - loss: 0.0067 - accuracy: 1.0000 - val_loss: 0.0012 - val_accuracy: 1.0000\n",
            "Epoch 5/20\n",
            "112/112 [==============================] - 47s 418ms/step - loss: 0.0046 - accuracy: 0.9998 - val_loss: 9.1497e-04 - val_accuracy: 1.0000\n",
            "Epoch 6/20\n",
            "112/112 [==============================] - 47s 416ms/step - loss: 0.0031 - accuracy: 1.0000 - val_loss: 5.8626e-04 - val_accuracy: 1.0000\n",
            "Epoch 7/20\n",
            "112/112 [==============================] - 47s 416ms/step - loss: 0.0025 - accuracy: 1.0000 - val_loss: 4.2813e-04 - val_accuracy: 1.0000\n",
            "Epoch 8/20\n",
            "112/112 [==============================] - 47s 416ms/step - loss: 0.0019 - accuracy: 0.9999 - val_loss: 3.4247e-04 - val_accuracy: 1.0000\n",
            "Epoch 9/20\n",
            "112/112 [==============================] - 47s 416ms/step - loss: 0.0017 - accuracy: 1.0000 - val_loss: 2.4685e-04 - val_accuracy: 1.0000\n",
            "Epoch 10/20\n",
            "112/112 [==============================] - 47s 415ms/step - loss: 0.0016 - accuracy: 1.0000 - val_loss: 2.0456e-04 - val_accuracy: 1.0000\n",
            "Epoch 11/20\n",
            "112/112 [==============================] - 46s 410ms/step - loss: 0.0012 - accuracy: 1.0000 - val_loss: 1.6502e-04 - val_accuracy: 1.0000\n",
            "Epoch 12/20\n",
            "112/112 [==============================] - 46s 414ms/step - loss: 0.0012 - accuracy: 0.9997 - val_loss: 1.4594e-04 - val_accuracy: 1.0000\n",
            "Epoch 13/20\n",
            "112/112 [==============================] - 46s 411ms/step - loss: 0.0010 - accuracy: 1.0000 - val_loss: 1.2003e-04 - val_accuracy: 1.0000\n",
            "Epoch 14/20\n",
            "112/112 [==============================] - 46s 414ms/step - loss: 0.0011 - accuracy: 0.9998 - val_loss: 1.0472e-04 - val_accuracy: 1.0000\n",
            "Epoch 15/20\n",
            "112/112 [==============================] - 46s 414ms/step - loss: 6.1972e-04 - accuracy: 1.0000 - val_loss: 8.6245e-05 - val_accuracy: 1.0000\n",
            "Epoch 16/20\n",
            "112/112 [==============================] - 47s 417ms/step - loss: 3.5409e-04 - accuracy: 1.0000 - val_loss: 7.4436e-05 - val_accuracy: 1.0000\n",
            "Epoch 17/20\n",
            "112/112 [==============================] - 47s 418ms/step - loss: 4.5534e-04 - accuracy: 1.0000 - val_loss: 6.5673e-05 - val_accuracy: 1.0000\n",
            "Epoch 18/20\n",
            "112/112 [==============================] - 47s 417ms/step - loss: 5.7447e-04 - accuracy: 1.0000 - val_loss: 5.8576e-05 - val_accuracy: 1.0000\n",
            "Epoch 19/20\n",
            "112/112 [==============================] - 46s 414ms/step - loss: 4.0169e-04 - accuracy: 1.0000 - val_loss: 4.9956e-05 - val_accuracy: 1.0000\n",
            "Epoch 20/20\n",
            "112/112 [==============================] - 46s 412ms/step - loss: 3.0056e-04 - accuracy: 1.0000 - val_loss: 4.4735e-05 - val_accuracy: 1.0000\n",
            "[INFO] Evaluating Network...\n",
            "              precision    recall  f1-score   support\n",
            "\n",
            "   with_mask       1.00      1.00      1.00       584\n",
            "without_mask       1.00      1.00      1.00       616\n",
            "\n",
            "    accuracy                           1.00      1200\n",
            "   macro avg       1.00      1.00      1.00      1200\n",
            "weighted avg       1.00      1.00      1.00      1200\n",
            "\n",
            "[INFO] Accuracy...\n",
            "1.0\n",
            "[INFO] Saving Model...\n"
          ],
          "name": "stdout"
        },
        {
          "output_type": "display_data",
          "data": {
            "image/png": "[encoded data removed]",
            "text/plain": [
              "<Figure size 432x288 with 1 Axes>"
            ]
          },
          "metadata": {
            "tags": []
          }
        }
      ]
    }
  ]
}