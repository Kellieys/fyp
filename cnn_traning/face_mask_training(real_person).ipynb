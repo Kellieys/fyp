{
  "nbformat": 4,
  "nbformat_minor": 0,
  "metadata": {
    "colab": {
      "name": "face-mask-training(real-person).ipynb",
      "provenance": [],
      "collapsed_sections": []
    },
    "kernelspec": {
      "name": "python3",
      "display_name": "Python 3"
    },
    "language_info": {
      "name": "python"
    },
    "accelerator": "GPU"
  },
  "cells": [
    {
      "cell_type": "markdown",
      "metadata": {
        "id": "k-YIOcOCSFKD"
      },
      "source": [
        "# Import the necessary packages"
      ]
    },
    {
      "cell_type": "code",
      "metadata": {
        "id": "xZo1ZnaRSHVZ"
      },
      "source": [
        "import os\n",
        "import numpy as np\n",
        "from imutils import paths\n",
        "import matplotlib.pyplot as plt\n",
        "from sklearn.metrics import accuracy_score\n",
        "from tensorflow.keras.layers import Dense\n",
        "from tensorflow.keras.layers import Input\n",
        "from tensorflow.keras.models import Model\n",
        "from tensorflow.keras.layers import Dropout\n",
        "from tensorflow.keras.layers import Flatten\n",
        "from tensorflow.keras.optimizers import Adam\n",
        "from tensorflow.keras.utils import to_categorical\n",
        "from sklearn.preprocessing import LabelBinarizer\n",
        "from sklearn.metrics import classification_report\n",
        "from sklearn.model_selection import train_test_split\n",
        "from tensorflow.keras.applications import MobileNetV2\n",
        "from tensorflow.keras.layers import AveragePooling2D\n",
        "from tensorflow.keras.preprocessing.image import ImageDataGenerator\n",
        "from tensorflow.keras.applications.mobilenet_v2 import preprocess_input\n",
        "from tensorflow.keras.preprocessing.image import img_to_array\n",
        "from tensorflow.keras.preprocessing.image import load_img"
      ],
      "execution_count": 2,
      "outputs": []
    },
    {
      "cell_type": "markdown",
      "metadata": {
        "id": "BCZANh1sSNWd"
      },
      "source": [
        "# Mount Drive\n"
      ]
    },
    {
      "cell_type": "code",
      "metadata": {
        "colab": {
          "base_uri": "https://localhost:8080/"
        },
        "id": "IRle3cZOSTKr",
        "outputId": "72e3c189-7650-44c5-c164-56c6f0291c22"
      },
      "source": [
        "from google.colab import drive\n",
        "drive.mount('/content/drive')\n"
      ],
      "execution_count": 3,
      "outputs": [
        {
          "output_type": "stream",
          "text": [
            "Mounted at /content/drive\n"
          ],
          "name": "stdout"
        }
      ]
    },
    {
      "cell_type": "markdown",
      "metadata": {
        "id": "2PZ48ngNSXMP"
      },
      "source": [
        "# Data Preprosessing"
      ]
    },
    {
      "cell_type": "code",
      "metadata": {
        "colab": {
          "base_uri": "https://localhost:8080/"
        },
        "id": "FfwAJiUmSa-r",
        "outputId": "0b829547-c613-4836-b97b-922d04ddcdaa"
      },
      "source": [
        "# initialization for initial learning rate, number of epochs and batch size\n",
        "INIT_LR = 1e-4\n",
        "EPOCHS = 20\n",
        "BS = 32\n",
        "\n",
        "# initialize directory to dataset\n",
        "DIRECTORY = \"/content/drive/MyDrive/Real-person-dataset/\"\n",
        "CATEGORIES = [\"with_mask\", \"without_mask\"]\n",
        "\n",
        "# initalize the list the data and class of the images\n",
        "# append to corresponding array grab the list of images in our dataset directory, then initialize the list of data and class \n",
        "print(\"[INFO] Loading Images...\")\n",
        "\n",
        "dataset = []\n",
        "labels = []\n",
        "\n",
        "for category in CATEGORIES:\n",
        "    path = os.path.join(DIRECTORY, category)\n",
        "    for img in os.listdir(path):\n",
        "    \timg_path = os.path.join(path, img)\n",
        "    \timage = load_img(img_path, target_size=(224, 224))\n",
        "    \timage = img_to_array(image)\n",
        "    \timage = preprocess_input(image)\n",
        "\n",
        "    \tdataset.append(image)\n",
        "    \tlabels.append(category)\n",
        "\n",
        "# perform one-hot encoding with the labels\n",
        "lb = LabelBinarizer()\n",
        "labels = lb.fit_transform(labels)\n",
        "labels = to_categorical(labels)\n",
        "\n",
        "dataset = np.array(dataset, dtype=\"float32\")\n",
        "labels = np.array(labels)"
      ],
      "execution_count": 4,
      "outputs": [
        {
          "output_type": "stream",
          "text": [
            "[INFO] Loading Images...\n"
          ],
          "name": "stdout"
        }
      ]
    },
    {
      "cell_type": "markdown",
      "metadata": {
        "id": "0djgWXZGSajv"
      },
      "source": [
        "# Model Training"
      ]
    },
    {
      "cell_type": "code",
      "metadata": {
        "colab": {
          "base_uri": "https://localhost:8080/"
        },
        "id": "vp36-wPmSiid",
        "outputId": "d055cd4c-83ff-4815-cdb8-1bccd8eb2d87"
      },
      "source": [
        "# split training set and validation dataset\n",
        "(trainX, validationX, trainY, validationY) = train_test_split(dataset, labels, test_size=0.20, stratify=labels, random_state=42)\n",
        "\n",
        "# split training set and testing dataset\n",
        "(trainX, testX, trainY, testY) = train_test_split(trainX, trainY, test_size=0.25, random_state=42)\n",
        "\n",
        "# configure image data augmentation\n",
        "aug = ImageDataGenerator(\n",
        "\trotation_range=20,\n",
        "\tzoom_range=0.15,\n",
        "\twidth_shift_range=0.2,\n",
        "\theight_shift_range=0.2,\n",
        "\tshear_range=0.15,\n",
        "\thorizontal_flip=True,\n",
        "\tfill_mode=\"nearest\")\n",
        "\n",
        "# load the MobileNetV2 network but do not include the head of fully connected layer\n",
        "baseModel = MobileNetV2(weights=\"imagenet\", include_top=False, input_tensor=Input(shape=(224, 224, 3)))\n",
        "\n",
        "# define the top model for each layer\n",
        "headModel = baseModel.output\n",
        "headModel = AveragePooling2D(pool_size=(7, 7))(headModel)\n",
        "headModel = Flatten(name=\"flatten\")(headModel)\n",
        "headModel = Dense(128, activation=\"relu\")(headModel)\n",
        "headModel = Dropout(0.5)(headModel)\n",
        "headModel = Dense(2, activation=\"softmax\")(headModel)\n",
        "\n",
        "# combine head fully connected model on top of the base model \n",
        "model = Model(inputs=baseModel.input, outputs=headModel)\n",
        "\n",
        "# freeze the base model so it will NOT update during the first training process\n",
        "for layer in baseModel.layers:\n",
        "\tlayer.trainable = False\n",
        "\n",
        "# compile model\n",
        "print(\"[INFO] Compiling Model...\")\n",
        "opt = Adam(lr=INIT_LR, decay=INIT_LR / EPOCHS)\n",
        "model.compile(loss=\"binary_crossentropy\", optimizer=opt, metrics=[\"accuracy\"])\n",
        "\n",
        "# train the head of the network\n",
        "print(\"[INFO] Training Head...\")\n",
        "H = model.fit(\n",
        "\taug.flow(trainX, trainY, batch_size=BS),\n",
        "\tsteps_per_epoch=len(trainX) // BS,\n",
        "\tvalidation_data=(validationX, validationY),\n",
        "\tvalidation_steps=len(validationX) // BS,\n",
        "\tepochs=EPOCHS)\n"
      ],
      "execution_count": 5,
      "outputs": [
        {
          "output_type": "stream",
          "text": [
            "WARNING:tensorflow:`input_shape` is undefined or non-square, or `rows` is not in [96, 128, 160, 192, 224]. Weights for input shape (224, 224) will be loaded as the default.\n",
            "Downloading data from https://storage.googleapis.com/tensorflow/keras-applications/mobilenet_v2/mobilenet_v2_weights_tf_dim_ordering_tf_kernels_1.0_224_no_top.h5\n",
            "9412608/9406464 [==============================] - 0s 0us/step\n",
            "[INFO] Compiling Model...\n",
            "[INFO] Training Head...\n",
            "Epoch 1/20\n",
            "112/112 [==============================] - 70s 337ms/step - loss: 0.5920 - accuracy: 0.7247 - val_loss: 0.1485 - val_accuracy: 0.9759\n",
            "Epoch 2/20\n",
            "112/112 [==============================] - 37s 326ms/step - loss: 0.1484 - accuracy: 0.9707 - val_loss: 0.0835 - val_accuracy: 0.9825\n",
            "Epoch 3/20\n",
            "112/112 [==============================] - 36s 324ms/step - loss: 0.0955 - accuracy: 0.9793 - val_loss: 0.0645 - val_accuracy: 0.9825\n",
            "Epoch 4/20\n",
            "112/112 [==============================] - 37s 327ms/step - loss: 0.0761 - accuracy: 0.9772 - val_loss: 0.0532 - val_accuracy: 0.9842\n",
            "Epoch 5/20\n",
            "112/112 [==============================] - 37s 327ms/step - loss: 0.0602 - accuracy: 0.9855 - val_loss: 0.0529 - val_accuracy: 0.9817\n",
            "Epoch 6/20\n",
            "112/112 [==============================] - 37s 326ms/step - loss: 0.0533 - accuracy: 0.9856 - val_loss: 0.0493 - val_accuracy: 0.9833\n",
            "Epoch 7/20\n",
            "112/112 [==============================] - 36s 325ms/step - loss: 0.0489 - accuracy: 0.9899 - val_loss: 0.0456 - val_accuracy: 0.9825\n",
            "Epoch 8/20\n",
            "112/112 [==============================] - 36s 325ms/step - loss: 0.0492 - accuracy: 0.9837 - val_loss: 0.0402 - val_accuracy: 0.9867\n",
            "Epoch 9/20\n",
            "112/112 [==============================] - 37s 327ms/step - loss: 0.0369 - accuracy: 0.9901 - val_loss: 0.0390 - val_accuracy: 0.9858\n",
            "Epoch 10/20\n",
            "112/112 [==============================] - 37s 327ms/step - loss: 0.0386 - accuracy: 0.9900 - val_loss: 0.0358 - val_accuracy: 0.9850\n",
            "Epoch 11/20\n",
            "112/112 [==============================] - 37s 328ms/step - loss: 0.0471 - accuracy: 0.9853 - val_loss: 0.0393 - val_accuracy: 0.9858\n",
            "Epoch 12/20\n",
            "112/112 [==============================] - 37s 328ms/step - loss: 0.0353 - accuracy: 0.9900 - val_loss: 0.0372 - val_accuracy: 0.9858\n",
            "Epoch 13/20\n",
            "112/112 [==============================] - 37s 330ms/step - loss: 0.0329 - accuracy: 0.9902 - val_loss: 0.0325 - val_accuracy: 0.9867\n",
            "Epoch 14/20\n",
            "112/112 [==============================] - 37s 328ms/step - loss: 0.0334 - accuracy: 0.9903 - val_loss: 0.0336 - val_accuracy: 0.9867\n",
            "Epoch 15/20\n",
            "112/112 [==============================] - 37s 327ms/step - loss: 0.0348 - accuracy: 0.9922 - val_loss: 0.0287 - val_accuracy: 0.9883\n",
            "Epoch 16/20\n",
            "112/112 [==============================] - 37s 329ms/step - loss: 0.0338 - accuracy: 0.9904 - val_loss: 0.0289 - val_accuracy: 0.9875\n",
            "Epoch 17/20\n",
            "112/112 [==============================] - 37s 327ms/step - loss: 0.0344 - accuracy: 0.9881 - val_loss: 0.0300 - val_accuracy: 0.9867\n",
            "Epoch 18/20\n",
            "112/112 [==============================] - 37s 326ms/step - loss: 0.0312 - accuracy: 0.9901 - val_loss: 0.0301 - val_accuracy: 0.9867\n",
            "Epoch 19/20\n",
            "112/112 [==============================] - 36s 325ms/step - loss: 0.0242 - accuracy: 0.9946 - val_loss: 0.0277 - val_accuracy: 0.9867\n",
            "Epoch 20/20\n",
            "112/112 [==============================] - 36s 323ms/step - loss: 0.0357 - accuracy: 0.9912 - val_loss: 0.0300 - val_accuracy: 0.9867\n"
          ],
          "name": "stdout"
        }
      ]
    },
    {
      "cell_type": "markdown",
      "metadata": {
        "id": "ns8IWH3Mlo27"
      },
      "source": [
        "# Model Prediction and Report\n"
      ]
    },
    {
      "cell_type": "code",
      "metadata": {
        "colab": {
          "base_uri": "https://localhost:8080/",
          "height": 524
        },
        "id": "F9N24kiqlomK",
        "outputId": "c502faba-10bf-4cd7-8c19-6685bc2ee66b"
      },
      "source": [
        "# make predictions on the testing set\n",
        "print(\"[INFO] Evaluating Network...\")\n",
        "predIdxs = model.predict(testX, batch_size=BS)\n",
        "\n",
        "# find the index of label for each of our image in testing set corresponding to its largest predicted probability\n",
        "predIdxs = np.argmax(predIdxs, axis=1)\n",
        "\n",
        "# output classification report\n",
        "print(classification_report(testY.argmax(axis=1), predIdxs, target_names=lb.classes_))\n",
        "\n",
        "# inspect the accuracy of the model on testing set\n",
        "print(\"[INFO] Accuracy...\")\n",
        "print(accuracy_score(testY.argmax(axis=1), predIdxs))\n",
        "\n",
        "# finalize the model and save\n",
        "print(\"[INFO] Saving Model...\")\n",
        "model.save(\"/content/drive/MyDrive/Real-person-dataset-model/Real-person-dataset-model.model\", save_format=\"h5\")\n",
        "\n",
        "# plot grpah to inspect the training loss and accuracy\n",
        "N = EPOCHS\n",
        "plt.style.use(\"ggplot\")\n",
        "plt.figure()\n",
        "plt.plot(np.arange(0, N), H.history[\"loss\"], label=\"train_loss\")\n",
        "plt.plot(np.arange(0, N), H.history[\"val_loss\"], label=\"val_loss\")\n",
        "plt.plot(np.arange(0, N), H.history[\"accuracy\"], label=\"train_acc\")\n",
        "plt.plot(np.arange(0, N), H.history[\"val_accuracy\"], label=\"val_acc\")\n",
        "plt.title(\"Training Loss and Accuracy\")\n",
        "plt.xlabel(\"Epoch #\")\n",
        "plt.ylabel(\"Loss/Accuracy\")\n",
        "plt.legend(loc=\"lower left\")\n",
        "plt.savefig(\"/content/drive/MyDrive/Real-person-dataset-model/Real-person-dataset-plot.png\")"
      ],
      "execution_count": 6,
      "outputs": [
        {
          "output_type": "stream",
          "text": [
            "[INFO] Evaluating Network...\n",
            "              precision    recall  f1-score   support\n",
            "\n",
            "   with_mask       0.98      0.99      0.99       596\n",
            "without_mask       0.99      0.98      0.99       605\n",
            "\n",
            "    accuracy                           0.99      1201\n",
            "   macro avg       0.99      0.99      0.99      1201\n",
            "weighted avg       0.99      0.99      0.99      1201\n",
            "\n",
            "[INFO] Accuracy...\n",
            "0.9858451290591174\n",
            "[INFO] Saving Model...\n"
          ],
          "name": "stdout"
        },
        {
          "output_type": "display_data",
          "data": {
            "image/png": "[encoded data removed]",
            "text/plain": [
              "<Figure size 432x288 with 1 Axes>"
            ]
          },
          "metadata": {
            "tags": []
          }
        }
      ]
    }
  ]
}